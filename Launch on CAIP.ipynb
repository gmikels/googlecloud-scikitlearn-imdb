{
 "cells": [
  {
   "cell_type": "markdown",
   "metadata": {},
   "source": [
    "# Launching Jobs on Cloud AI Platform"
   ]
  },
  {
   "cell_type": "markdown",
   "metadata": {},
   "source": [
    "**Random Forest**"
   ]
  },
  {
   "cell_type": "markdown",
   "metadata": {},
   "source": [
    "complex_model_m machine = 16 cores and 14.4 GB of memory"
   ]
  },
  {
   "cell_type": "code",
   "execution_count": null,
   "metadata": {},
   "outputs": [],
   "source": [
    "%%bash\n",
    "PROJECT_ID=gmikels\n",
    "BUCKET_ID=gmikels-imdb\n",
    "JOB_NAME=imdb_rf_$(date +\"%Y%m%d_%H%M%S\")\n",
    "JOB_DIR=gs://$BUCKET_ID/scikit_learn_job_dir\n",
    "TRAINING_PACKAGE_PATH=\"/home/jupyter/caip/\"\n",
    "REGION=us-central1\n",
    "RUNTIME_VERSION=1.13\n",
    "PYTHON_VERSION=2.7\n",
    "SCALE_TIER=CUSTOM\n",
    "MASTER_TYPE=complex_model_m\n",
    "\n",
    "MAIN_TRAINER_MODULE=caip.train_rf\n",
    "\n",
    "gcloud beta ml-engine jobs submit training $JOB_NAME \\\n",
    "  --job-dir $JOB_DIR \\\n",
    "  --package-path $TRAINING_PACKAGE_PATH \\\n",
    "  --module-name $MAIN_TRAINER_MODULE \\\n",
    "  --region $REGION \\\n",
    "  --runtime-version=$RUNTIME_VERSION \\\n",
    "  --python-version=$PYTHON_VERSION \\\n",
    "  --scale-tier $SCALE_TIER \\\n",
    "  --master-machine-type $MASTER_TYPE"
   ]
  },
  {
   "cell_type": "markdown",
   "metadata": {},
   "source": [
    "**XGBoost**"
   ]
  },
  {
   "cell_type": "code",
   "execution_count": null,
   "metadata": {},
   "outputs": [],
   "source": [
    "%%bash\n",
    "PROJECT_ID=gmikels\n",
    "BUCKET_ID=gmikels-imdb\n",
    "JOB_NAME=imdb_xgboost_$(date +\"%Y%m%d_%H%M%S\")\n",
    "JOB_DIR=gs://$BUCKET_ID/scikit_learn_job_dir\n",
    "TRAINING_PACKAGE_PATH=\"/home/jupyter/caip/\"\n",
    "REGION=us-central1\n",
    "RUNTIME_VERSION=1.13\n",
    "PYTHON_VERSION=2.7\n",
    "SCALE_TIER=BASIC\n",
    "\n",
    "MAIN_TRAINER_MODULE=caip.train_xgboost\n",
    "\n",
    "gcloud ml-engine jobs submit training $JOB_NAME \\\n",
    "  --job-dir $JOB_DIR \\\n",
    "  --package-path $TRAINING_PACKAGE_PATH \\\n",
    "  --module-name $MAIN_TRAINER_MODULE \\\n",
    "  --region $REGION \\\n",
    "  --runtime-version=$RUNTIME_VERSION \\\n",
    "  --python-version=$PYTHON_VERSION \\\n",
    "  --scale-tier $SCALE_TIER"
   ]
  },
  {
   "cell_type": "markdown",
   "metadata": {},
   "source": [
    "**LinearSVC**"
   ]
  },
  {
   "cell_type": "code",
   "execution_count": null,
   "metadata": {},
   "outputs": [],
   "source": [
    "%%bash\n",
    "PROJECT_ID=gmikels\n",
    "BUCKET_ID=gmikels-imdb\n",
    "JOB_NAME=imdb_svg_$(date +\"%Y%m%d_%H%M%S\")\n",
    "JOB_DIR=gs://$BUCKET_ID/scikit_learn_job_dir\n",
    "TRAINING_PACKAGE_PATH=\"/home/jupyter/caip/\"\n",
    "REGION=us-central1\n",
    "RUNTIME_VERSION=1.13\n",
    "PYTHON_VERSION=2.7\n",
    "SCALE_TIER=CUSTOM\n",
    "MASTER_TYPE=complex_model_m\n",
    "\n",
    "MAIN_TRAINER_MODULE=caip.train_svc\n",
    "\n",
    "gcloud beta ml-engine jobs submit training $JOB_NAME \\\n",
    "  --job-dir $JOB_DIR \\\n",
    "  --package-path $TRAINING_PACKAGE_PATH \\\n",
    "  --module-name $MAIN_TRAINER_MODULE \\\n",
    "  --region $REGION \\\n",
    "  --runtime-version=$RUNTIME_VERSION \\\n",
    "  --python-version=$PYTHON_VERSION \\\n",
    "  --scale-tier $SCALE_TIER \\\n",
    "  --master-machine-type $MASTER_TYPE"
   ]
  }
 ],
 "metadata": {
  "kernelspec": {
   "display_name": "Python 3",
   "language": "python",
   "name": "python3"
  },
  "language_info": {
   "codemirror_mode": {
    "name": "ipython",
    "version": 3
   },
   "file_extension": ".py",
   "mimetype": "text/x-python",
   "name": "python",
   "nbconvert_exporter": "python",
   "pygments_lexer": "ipython3",
   "version": "3.5.3"
  }
 },
 "nbformat": 4,
 "nbformat_minor": 2
}
